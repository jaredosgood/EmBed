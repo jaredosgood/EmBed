{
 "cells": [
  {
   "cell_type": "code",
   "outputs": [],
   "source": [
    "SQLITE3_DB_PATH = \"/Users/jdo/EnBed/EnBed/db/EnBed.sqlite\"\n",
    "query = \"SELECT text FROM algorithms_table LIMIT=2;\""
   ],
   "metadata": {
    "collapsed": false
   },
   "id": "ee65329d2b0969d8",
   "execution_count": null
  },
  {
   "cell_type": "code",
   "outputs": [],
   "source": [
    "import sqlite3\n",
    "from typing import Any, Tuple\n",
    "\n",
    "\n",
    "def execute_sql_query(db_path: str, query: str) -> Tuple[Any]:\n",
    "    with sqlite3.connect(db_path) as conn:\n",
    "        cur = conn.cursor()\n",
    "        cur.execute(query)\n",
    "        result = cur.fetchone()\n",
    "    return result"
   ],
   "metadata": {
    "collapsed": false
   },
   "id": "7b9a6ba8abce023b",
   "execution_count": null
  },
  {
   "cell_type": "code",
   "outputs": [],
   "source": [
    "result = execute_sql_query(SQLITE3_DB_PATH, query)"
   ],
   "metadata": {
    "collapsed": false
   },
   "id": "41bb935f85a6d47e",
   "execution_count": null
  },
  {
   "cell_type": "code",
   "outputs": [],
   "source": [
    "result = \"Random Text\""
   ],
   "metadata": {
    "collapsed": false,
    "ExecuteTime": {
     "end_time": "2024-02-11T21:16:02.972398Z",
     "start_time": "2024-02-11T21:16:02.954445Z"
    }
   },
   "id": "888b63c972b437b1",
   "execution_count": 4
  },
  {
   "cell_type": "code",
   "execution_count": null,
   "id": "initial_id",
   "metadata": {
    "collapsed": true
   },
   "outputs": [],
   "source": [
    "from openai import OpenAI\n",
    "client = OpenAI()\n",
    "\n",
    "def get_embedding(text: str) -> str:\n",
    "    response = client.embeddings.create(\n",
    "        input=text,\n",
    "        model=\"text-embedding-3-large\"\n",
    "    )\n",
    "    print(response.data[0].embedding)\n",
    "    return response.data[0].embedding"
   ]
  },
  {
   "cell_type": "code",
   "outputs": [],
   "source": [
    "embedding = get_embedding(result)"
   ],
   "metadata": {
    "collapsed": false
   },
   "id": "4858bf4e21f97d2c",
   "execution_count": null
  },
  {
   "cell_type": "code",
   "outputs": [],
   "source": [
    "import sqlite3\n",
    "from openai import OpenAI\n",
    "\n",
    "\n",
    "SQLITE3_DB_PATH = \"/Users/jdo/EnBed/EnBed/db/EnBed.sqlite\"\n",
    "\n",
    "# Connect to your SQLite database\n",
    "conn = sqlite3.connect(SQLITE3_DB_PATH)\n",
    "c = conn.cursor()\n",
    "\n",
    "# Select the data from the table\n",
    "c.execute(f\"SELECT id, text FROM computer_organization_and_design_table;\")\n",
    "rows = c.fetchall()\n",
    "\n",
    "client = OpenAI()\n",
    "\n",
    "for row in rows:\n",
    "    result = row[1]  # Get the data to send for embedding\n",
    "    response = client.embeddings.create(\n",
    "        input=result,\n",
    "        model=\"text-embedding-3-large\"\n",
    "    )\n",
    "    embedding = response.data[0].embedding\n",
    "\n",
    "    # Update the 'embeddings' column with the new embedding\n",
    "    c.execute(f\"UPDATE computer_organization_and_design_table SET embeddings = ? WHERE rowid = ?\", (embedding, row[0]))\n",
    "\n",
    "# Commit the changes and close the connection\n",
    "conn.commit()\n",
    "conn.close()"
   ],
   "metadata": {
    "collapsed": false
   },
   "id": "5c99bbb83f844cb2",
   "execution_count": null
  },
  {
   "cell_type": "code",
   "outputs": [],
   "source": [
    "import sqlite3\n",
    "from openai import OpenAI\n",
    "\n",
    "SQLITE3_DB_PATH = \"/Users/jdo/EnBed/EnBed/db/EnBed.sqlite\"\n",
    "selected_table = \"algorithms_table\"\n",
    "# Connect to your SQLite database\n",
    "conn = sqlite3.connect(SQLITE3_DB_PATH)\n",
    "c = conn.cursor()\n",
    "\n",
    "# Select the data from the table\n",
    "query = f\"SELECT id, text FROM {selected_table}\"\n",
    "c.execute(query)\n",
    "rows = c.fetchall()\n",
    "\n",
    "client = OpenAI()\n",
    "\n",
    "for row in rows:\n",
    "    result = row[1]  # Get the data to send for embedding\n",
    "    response = client.embeddings.create(\n",
    "        input=result,\n",
    "        model=\"text-embedding-3-large\"\n",
    "    )\n",
    "    embedding = response.data[0].embedding\n",
    "\n",
    "    # Convert list to a comma-separated string for storing in database\n",
    "    embedding_str = ','.join(map(str, embedding))\n",
    "\n",
    "    # Update the 'embeddings' column with the new embedding\n",
    "    update_query = f\"UPDATE {selected_table} SET embeddings = {embedding_str} WHERE row = {row[0]};\"\n",
    "    c.execute(update_query)\n",
    "    print(f\"Updated row {row[0]} with embedding.\")\n",
    "# Commit the changes and close the connection\n",
    "conn.commit()\n",
    "conn.close()"
   ],
   "metadata": {
    "collapsed": false
   },
   "id": "e962ee65699143f1",
   "execution_count": null
  },
  {
   "cell_type": "code",
   "outputs": [
    {
     "ename": "OperationalError",
     "evalue": "database is locked",
     "output_type": "error",
     "traceback": [
      "\u001B[0;31m---------------------------------------------------------------------------\u001B[0m",
      "\u001B[0;31mOperationalError\u001B[0m                          Traceback (most recent call last)",
      "Cell \u001B[0;32mIn[5], line 12\u001B[0m\n\u001B[1;32m     10\u001B[0m \u001B[38;5;66;03m# Select the data from the table\u001B[39;00m\n\u001B[1;32m     11\u001B[0m query \u001B[38;5;241m=\u001B[39m \u001B[38;5;124mf\u001B[39m\u001B[38;5;124m\"\u001B[39m\u001B[38;5;124mSELECT id, summary FROM \u001B[39m\u001B[38;5;132;01m{\u001B[39;00mselected_table\u001B[38;5;132;01m}\u001B[39;00m\u001B[38;5;124m\"\u001B[39m\n\u001B[0;32m---> 12\u001B[0m \u001B[43mc\u001B[49m\u001B[38;5;241;43m.\u001B[39;49m\u001B[43mexecute\u001B[49m\u001B[43m(\u001B[49m\u001B[43mquery\u001B[49m\u001B[43m)\u001B[49m\n\u001B[1;32m     13\u001B[0m rows \u001B[38;5;241m=\u001B[39m c\u001B[38;5;241m.\u001B[39mfetchall()\n\u001B[1;32m     15\u001B[0m client \u001B[38;5;241m=\u001B[39m OpenAI()\n",
      "\u001B[0;31mOperationalError\u001B[0m: database is locked"
     ]
    }
   ],
   "source": [
    "import sqlite3\n",
    "from openai import OpenAI\n",
    "\n",
    "SQLITE3_DB_PATH = \"/Users/jdo/EnBed/EnBed/db/EnBed.sqlite\"\n",
    "selected_table = \"algorithms_table\"\n",
    "# Connect to your SQLite database\n",
    "conn = sqlite3.connect(SQLITE3_DB_PATH)\n",
    "c = conn.cursor()\n",
    "\n",
    "# Select the data from the table\n",
    "query = f\"SELECT id, summary FROM {selected_table}\"\n",
    "c.execute(query)\n",
    "rows = c.fetchall()\n",
    "\n",
    "client = OpenAI()\n",
    "\n",
    "for row in rows:\n",
    "    result = row[1]  # Get the data to send for embedding\n",
    "    response = client.embeddings.create(\n",
    "        input=result,\n",
    "        model=\"text-embedding-3-large\"\n",
    "    )\n",
    "    embedding = response.data[0].embedding\n",
    "\n",
    "    # Convert list to a comma-separated string for storing in database\n",
    "    embedding_str = ','.join(map(str, embedding))\n",
    "\n",
    "    # Update the 'embeddings' column with the new embedding\n",
    "    update_query = f\"UPDATE {selected_table} SET summary_embeddings = ? WHERE id = ?;\"\n",
    "    c.execute(update_query, (embedding_str, row[0]))\n",
    "    print(f\"Updated row {row[0]} with embedding.\")\n",
    "# Commit the changes and close the connection\n",
    "conn.commit()\n",
    "conn.close()"
   ],
   "metadata": {
    "collapsed": false,
    "ExecuteTime": {
     "end_time": "2024-02-11T21:23:29.865446Z",
     "start_time": "2024-02-11T21:23:24.593501Z"
    }
   },
   "id": "aedd62a8c7421da0",
   "execution_count": 5
  },
  {
   "cell_type": "code",
   "outputs": [],
   "source": [
    "!pip install pinecone-io"
   ],
   "metadata": {
    "collapsed": false
   },
   "id": "151a01941c27ce58",
   "execution_count": null
  },
  {
   "cell_type": "code",
   "outputs": [],
   "source": [
    "import sqlite3\n",
    "from openai import OpenAI\n",
    "\n",
    "SQLITE3_DB_PATH = \"/Users/jdo/EnBed/EnBed/db/EnBed.sqlite\"\n",
    "\n",
    "# Connect to your SQLite database\n",
    "conn = sqlite3.connect(SQLITE3_DB_PATH)\n",
    "c = conn.cursor()\n",
    "\n",
    "# Select the data from the table\n",
    "c.execute(\"SELECT * FROM computer_organization_and_design_table;\")\n",
    "rows = c.fetchall()\n",
    "\n",
    "# extract embeddings to a list\n",
    "embeds = rows\n",
    "print(embeds[:10])"
   ],
   "metadata": {
    "collapsed": false
   },
   "id": "4de47210ba2f553",
   "execution_count": null
  }
 ],
 "metadata": {
  "kernelspec": {
   "display_name": "Python 3",
   "language": "python",
   "name": "python3"
  },
  "language_info": {
   "codemirror_mode": {
    "name": "ipython",
    "version": 2
   },
   "file_extension": ".py",
   "mimetype": "text/x-python",
   "name": "python",
   "nbconvert_exporter": "python",
   "pygments_lexer": "ipython2",
   "version": "2.7.6"
  }
 },
 "nbformat": 4,
 "nbformat_minor": 5
}
