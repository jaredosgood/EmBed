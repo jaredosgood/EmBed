{
 "cells": [
  {
   "cell_type": "code",
   "outputs": [],
   "source": [
    "user_input = input(\"Enter the Question: \\n\\n\")"
   ],
   "metadata": {
    "collapsed": false
   },
   "id": "bd21b817724a31ea"
  },
  {
   "cell_type": "code",
   "execution_count": 12,
   "id": "initial_id",
   "metadata": {
    "collapsed": true,
    "ExecuteTime": {
     "end_time": "2024-02-09T07:30:33.003196Z",
     "start_time": "2024-02-09T07:30:32.692203Z"
    }
   },
   "outputs": [],
   "source": [
    "import os\n",
    "import openai\n",
    "import json\n",
    "\n",
    "client = openai.OpenAI(api_key=os.environ.get(\"OPENAI_API_KEY\"))\n",
    "def sql_textbook_query_assistant(user_input):\n",
    "\n",
    "    system_prompt = \"\"\"You are a helpful assistant. \n",
    "                    **Context:** You are the world’s leading linguist, data analyst, and computer scientist with over 75 years of experience in \n",
    "                    each of the following fields: linguistics, data analysis, computer science, and software engineering.\n",
    "                    You specialize in the intelligent search of academic databases. Your task involves enhancing the search queries of a SQL \n",
    "                    database containing post-secondary undergraduate textbooks, focusing primarily on computer science and software engineering \n",
    "                    disciplines. The goal is to refine the search process, enabling the extraction of highly relevant academic content to \n",
    "                    support educational objectives and research.\n",
    "                    **Task:** Using your expertise in natural language processing (NLP), you are tasked with designing a sophisticated query \n",
    "                    transformation system. This system will interpret user queries related to computer science and software engineering topics, \n",
    "                    and translate them into \"Keywords\" and \"KeyPhrases\". The \"Keywords\" column will list ten (10) highly relevant keywords, \n",
    "                    derived from the user's query or closely associated with the core concepts therein. The \"KeyPhrases\" column is to include \n",
    "                    five (5) concise phrases or sentence fragments, each ranging from two (2) to four (4) words in length, crafted to capture \n",
    "                    the essence of the user's search intent.\n",
    "                    **Objective:** Your primary objective is to refine the keyword and key phrase extraction process, ensuring that the \n",
    "                    selected terms are optimally aligned with the subject matter of computer science and software engineering. This \n",
    "                    entails not only the identification of direct mentions within the user's query but also the inference of related \n",
    "                    concepts that may enhance the relevance of the search results. The ultimate aim is to facilitate a more intuitive \n",
    "                    and effective search experience within the textbook database, leveraging keyword similarity and relevance to \n",
    "                    extract the most pertinent excerpts for user queries.\n",
    "                    **Requirements:** \n",
    "                    (1)\tEmploy advanced NLP techniques to accurately identify and prioritize terms that are most likely to yield \n",
    "                    relevant search results within the academic database.\n",
    "                    **Deliverables:** \n",
    "                    (1)\tYou must deliver these keywords and key phrases in nested JSON format in which the first array consists \n",
    "                    of \"keywords\" and \"keyPhrases\" and the second level of the array is the ten keywords nested under “keywords” \n",
    "                    and the five key phrases nested under \"keyPhrases\".\n",
    "                    \"\"\"\n",
    "    try:\n",
    "        # Generate the query and get the response\n",
    "        response = openai.chat.completions.create(\n",
    "            model=\"gpt-4-1106-preview\",\n",
    "            messages=[\n",
    "                {\"role\": \"system\", \"content\": system_prompt},\n",
    "                {\"role\": \"user\", \"content\": user_input}\n",
    "            ]\n",
    "        )\n",
    "\n",
    "        # Parse the response\n",
    "        json_response = json.dumps(response.choices[0].message.content, indent=4)\n",
    "\n",
    "    except Exception as err:\n",
    "        print(f\"An error occurred: {err}\")\n",
    "        return None\n",
    "\n",
    "    # Print and return the parsed response\n",
    "    print(json_response)\n",
    "    return json_response\n"
   ]
  },
  {
   "cell_type": "code",
   "outputs": [
    {
     "name": "stdout",
     "output_type": "stream",
     "text": [
      "\"Based on the query regarding the best algorithm for sorting in Java, we'll focus on terms related to sorting algorithms that are commonly used or discussed in the context of Java programming.\\n\\nHere are the keywords and key phrases extracted and refined for this query:\\n\\n```json\\n{\\n  \\\"keywords\\\": [\\n    \\\"Sorting algorithms\\\",\\n    \\\"QuickSort\\\",\\n    \\\"MergeSort\\\",\\n    \\\"TimSort\\\",\\n    \\\"Java Collections sort\\\",\\n    \\\"Arrays sort\\\",\\n    \\\"Stable sorting\\\",\\n    \\\"Algorithm efficiency\\\",\\n    \\\"Comparison-based sorting\\\",\\n    \\\"ParallelSort\\\"\\n  ],\\n  \\\"keyPhrases\\\": [\\n    \\\"Best sorting algorithm\\\",\\n    \\\"Efficient Java sorting\\\",\\n    \\\"Java sorting methods\\\",\\n    \\\"Stable sort in Java\\\",\\n    \\\"Sort algorithm comparison\\\"\\n  ]\\n}\\n```\\n\\nThe selected terms are intended to reflect both direct mentions from the user's query (e.g., sorting, algorithm, Java) and related concepts that could enhance the relevance of search results in an academic database focused on computer science and software engineering.\"\n",
      "\"Based on the query regarding the best algorithm for sorting in Java, we'll focus on terms related to sorting algorithms that are commonly used or discussed in the context of Java programming.\\n\\nHere are the keywords and key phrases extracted and refined for this query:\\n\\n```json\\n{\\n  \\\"keywords\\\": [\\n    \\\"Sorting algorithms\\\",\\n    \\\"QuickSort\\\",\\n    \\\"MergeSort\\\",\\n    \\\"TimSort\\\",\\n    \\\"Java Collections sort\\\",\\n    \\\"Arrays sort\\\",\\n    \\\"Stable sorting\\\",\\n    \\\"Algorithm efficiency\\\",\\n    \\\"Comparison-based sorting\\\",\\n    \\\"ParallelSort\\\"\\n  ],\\n  \\\"keyPhrases\\\": [\\n    \\\"Best sorting algorithm\\\",\\n    \\\"Efficient Java sorting\\\",\\n    \\\"Java sorting methods\\\",\\n    \\\"Stable sort in Java\\\",\\n    \\\"Sort algorithm comparison\\\"\\n  ]\\n}\\n```\\n\\nThe selected terms are intended to reflect both direct mentions from the user's query (e.g., sorting, algorithm, Java) and related concepts that could enhance the relevance of search results in an academic database focused on computer science and software engineering.\"\n"
     ]
    }
   ],
   "source": [
    "user_input = input(\"Enter the Question: \\n\\n\")\n",
    "query_words_and_phrases = sql_textbook_query_assistant(user_input)\n",
    "print(query_words_and_phrases)"
   ],
   "metadata": {
    "collapsed": false,
    "ExecuteTime": {
     "end_time": "2024-02-09T07:31:02.349372Z",
     "start_time": "2024-02-09T07:30:33.780012Z"
    }
   },
   "id": "3eef8ac3100cb40b",
   "execution_count": 13
  },
  {
   "cell_type": "code",
   "outputs": [],
   "source": [],
   "metadata": {
    "collapsed": false
   },
   "id": "574eab1979832cb7"
  }
 ],
 "metadata": {
  "kernelspec": {
   "display_name": "Python 3",
   "language": "python",
   "name": "python3"
  },
  "language_info": {
   "codemirror_mode": {
    "name": "ipython",
    "version": 2
   },
   "file_extension": ".py",
   "mimetype": "text/x-python",
   "name": "python",
   "nbconvert_exporter": "python",
   "pygments_lexer": "ipython2",
   "version": "2.7.6"
  }
 },
 "nbformat": 4,
 "nbformat_minor": 5
}
