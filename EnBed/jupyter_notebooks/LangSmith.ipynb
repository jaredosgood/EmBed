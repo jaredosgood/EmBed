{
 "cells": [
  {
   "cell_type": "code",
   "execution_count": null,
   "id": "initial_id",
   "metadata": {
    "collapsed": true
   },
   "outputs": [],
   "source": [
    "import os\n",
    "!pip install -U langchain-openai langsmith"
   ]
  },
  {
   "cell_type": "code",
   "outputs": [],
   "source": [
    "LANGCHAIN_ENDPOINT=os.getenv('LANGCHAIN_ENDPOINT')\n",
    "LANGCHAIN_API_KEY=os.getenv('LANGCHAIN_API_KEY')\n",
    "print(LANGCHAIN_ENDPOINT, LANGCHAIN_API_KEY)"
   ],
   "metadata": {
    "collapsed": false
   },
   "id": "7947dc504b810ad0",
   "execution_count": null
  },
  {
   "cell_type": "code",
   "outputs": [],
   "source": [
    "import langsmith\n",
    "from langchain-openai import ChatOpenAI\n",
    "from langchain import chat_models, prompts, smith\n",
    "from langchain.schema import output_parser\n",
    "\n",
    "\n",
    "# Define your runnable or chain below.\n",
    "prompt = prompts.ChatPromptTemplate.from_messages(\n",
    "    [\n",
    "        (\"system\", \"You are a helpful assistant who is an expert at PLP computer programming. You always provide ready-to-use code that is fully implemented and 100% implemented. Think step-by-step and explain your answers.\"),\n",
    "        (\"human\", \"\"\"(Question on Assembly Language)\n",
    "                        **Question**\n",
    "                        Which of the following will copy the contents of register t1 to register t0?\n",
    "                        \n",
    "                        **Group of Answer Choices**\n",
    "                        1. lw $t1, 0($t0)\n",
    "                        2. lw $t0, 0($t1)\n",
    "                        3. sw $t1, 0($t0)\n",
    "                        4. sw $t0, 0($t1)\n",
    "                        5. move $t0, $t1\n",
    "                        6. move $t1, $t0\n",
    "                        \"\"\")\n",
    "    ]\n",
    ")\n",
    "llm = chat_models.ChatOpenAI(model=\"gpt-4-0125-preview\", temperature=0)\n",
    "chain = prompt | llm | output_parser.StrOutputParser()\n",
    "\n",
    "# Define the evaluators to apply\n",
    "eval_config = smith.RunEvalConfig(\n",
    "    evaluators=[\n",
    "        smith.RunEvalConfig.LabeledCriteria(\"coherence\"),\n",
    "        \"cot_qa\",\n",
    "        smith.RunEvalConfig.LabeledCriteria(\"conciseness\"),\n",
    "        smith.RunEvalConfig.LabeledCriteria(\"relevance\")\n",
    "    ],\n",
    "    custom_evaluators=[],\n",
    "    eval_llm=chat_models.ChatOpenAI(model=\"gpt-4-0125-preview\", temperature=0)\n",
    ")\n",
    "\n",
    "client = langsmith.Client()\n",
    "chain_results = client.run_on_dataset(\n",
    "    dataset_name=\"computerOrgAndDesign\",\n",
    "    llm_or_chain_factory=chain,\n",
    "    evaluation=eval_config,\n",
    "    project_name=\"test-shoddy-slider-17\",\n",
    "    concurrency_level=5,\n",
    "    verbose=True,\n",
    ")"
   ],
   "metadata": {
    "collapsed": false
   },
   "id": "31c90279aeca73b8",
   "execution_count": null
  },
  {
   "cell_type": "code",
   "outputs": [],
   "source": [],
   "metadata": {
    "collapsed": false
   },
   "id": "aa14375bd6628ae5"
  },
  {
   "cell_type": "markdown",
   "source": [
    "NEW PROJECT"
   ],
   "metadata": {
    "collapsed": false
   },
   "id": "e4f197091601455c"
  },
  {
   "cell_type": "code",
   "outputs": [
    {
     "name": "stdout",
     "output_type": "stream",
     "text": [
      "Requirement already satisfied: langchain-openai in /Users/jdo/EnBed/.venv/lib/python3.12/site-packages (0.0.5)\r\n",
      "Requirement already satisfied: langchain-core<0.2,>=0.1.16 in /Users/jdo/EnBed/.venv/lib/python3.12/site-packages (from langchain-openai) (0.1.20)\r\n",
      "Requirement already satisfied: numpy<2,>=1 in /Users/jdo/EnBed/.venv/lib/python3.12/site-packages (from langchain-openai) (1.26.3)\r\n",
      "Requirement already satisfied: openai<2.0.0,>=1.10.0 in /Users/jdo/EnBed/.venv/lib/python3.12/site-packages (from langchain-openai) (1.10.0)\r\n",
      "Requirement already satisfied: tiktoken<0.6.0,>=0.5.2 in /Users/jdo/EnBed/.venv/lib/python3.12/site-packages (from langchain-openai) (0.5.2)\r\n",
      "Requirement already satisfied: PyYAML>=5.3 in /Library/Frameworks/Python.framework/Versions/3.12/lib/python3.12/site-packages (from langchain-core<0.2,>=0.1.16->langchain-openai) (6.0.1)\r\n",
      "Requirement already satisfied: anyio<5,>=3 in /Users/jdo/EnBed/.venv/lib/python3.12/site-packages (from langchain-core<0.2,>=0.1.16->langchain-openai) (4.2.0)\r\n",
      "Requirement already satisfied: jsonpatch<2.0,>=1.33 in /Users/jdo/EnBed/.venv/lib/python3.12/site-packages (from langchain-core<0.2,>=0.1.16->langchain-openai) (1.33)\r\n",
      "Requirement already satisfied: langsmith<0.0.88,>=0.0.87 in /Users/jdo/EnBed/.venv/lib/python3.12/site-packages (from langchain-core<0.2,>=0.1.16->langchain-openai) (0.0.87)\r\n",
      "Requirement already satisfied: packaging<24.0,>=23.2 in /Library/Frameworks/Python.framework/Versions/3.12/lib/python3.12/site-packages (from langchain-core<0.2,>=0.1.16->langchain-openai) (23.2)\r\n",
      "Requirement already satisfied: pydantic<3,>=1 in /Users/jdo/EnBed/.venv/lib/python3.12/site-packages (from langchain-core<0.2,>=0.1.16->langchain-openai) (2.6.0)\r\n",
      "Requirement already satisfied: requests<3,>=2 in /Library/Frameworks/Python.framework/Versions/3.12/lib/python3.12/site-packages (from langchain-core<0.2,>=0.1.16->langchain-openai) (2.31.0)\r\n",
      "Requirement already satisfied: tenacity<9.0.0,>=8.1.0 in /Users/jdo/EnBed/.venv/lib/python3.12/site-packages (from langchain-core<0.2,>=0.1.16->langchain-openai) (8.2.3)\r\n",
      "Requirement already satisfied: distro<2,>=1.7.0 in /Users/jdo/EnBed/.venv/lib/python3.12/site-packages (from openai<2.0.0,>=1.10.0->langchain-openai) (1.9.0)\r\n",
      "Requirement already satisfied: httpx<1,>=0.23.0 in /Users/jdo/EnBed/.venv/lib/python3.12/site-packages (from openai<2.0.0,>=1.10.0->langchain-openai) (0.26.0)\r\n",
      "Requirement already satisfied: sniffio in /Library/Frameworks/Python.framework/Versions/3.12/lib/python3.12/site-packages (from openai<2.0.0,>=1.10.0->langchain-openai) (1.3.0)\r\n",
      "Requirement already satisfied: tqdm>4 in /Users/jdo/EnBed/.venv/lib/python3.12/site-packages (from openai<2.0.0,>=1.10.0->langchain-openai) (4.66.1)\r\n",
      "Requirement already satisfied: typing-extensions<5,>=4.7 in /Users/jdo/EnBed/.venv/lib/python3.12/site-packages (from openai<2.0.0,>=1.10.0->langchain-openai) (4.9.0)\r\n",
      "Requirement already satisfied: regex>=2022.1.18 in /Users/jdo/EnBed/.venv/lib/python3.12/site-packages (from tiktoken<0.6.0,>=0.5.2->langchain-openai) (2023.12.25)\r\n",
      "Requirement already satisfied: idna>=2.8 in /Library/Frameworks/Python.framework/Versions/3.12/lib/python3.12/site-packages (from anyio<5,>=3->langchain-core<0.2,>=0.1.16->langchain-openai) (3.6)\r\n",
      "Requirement already satisfied: certifi in /Library/Frameworks/Python.framework/Versions/3.12/lib/python3.12/site-packages (from httpx<1,>=0.23.0->openai<2.0.0,>=1.10.0->langchain-openai) (2023.11.17)\r\n",
      "Requirement already satisfied: httpcore==1.* in /Users/jdo/EnBed/.venv/lib/python3.12/site-packages (from httpx<1,>=0.23.0->openai<2.0.0,>=1.10.0->langchain-openai) (1.0.2)\r\n",
      "Requirement already satisfied: h11<0.15,>=0.13 in /Users/jdo/EnBed/.venv/lib/python3.12/site-packages (from httpcore==1.*->httpx<1,>=0.23.0->openai<2.0.0,>=1.10.0->langchain-openai) (0.14.0)\r\n",
      "Requirement already satisfied: jsonpointer>=1.9 in /Library/Frameworks/Python.framework/Versions/3.12/lib/python3.12/site-packages (from jsonpatch<2.0,>=1.33->langchain-core<0.2,>=0.1.16->langchain-openai) (2.4)\r\n",
      "Requirement already satisfied: annotated-types>=0.4.0 in /Users/jdo/EnBed/.venv/lib/python3.12/site-packages (from pydantic<3,>=1->langchain-core<0.2,>=0.1.16->langchain-openai) (0.6.0)\r\n",
      "Requirement already satisfied: pydantic-core==2.16.1 in /Users/jdo/EnBed/.venv/lib/python3.12/site-packages (from pydantic<3,>=1->langchain-core<0.2,>=0.1.16->langchain-openai) (2.16.1)\r\n",
      "Requirement already satisfied: charset-normalizer<4,>=2 in /Library/Frameworks/Python.framework/Versions/3.12/lib/python3.12/site-packages (from requests<3,>=2->langchain-core<0.2,>=0.1.16->langchain-openai) (3.3.2)\r\n",
      "Requirement already satisfied: urllib3<3,>=1.21.1 in /Users/jdo/EnBed/.venv/lib/python3.12/site-packages (from requests<3,>=2->langchain-core<0.2,>=0.1.16->langchain-openai) (2.2.0)\r\n",
      "\r\n",
      "\u001B[1m[\u001B[0m\u001B[34;49mnotice\u001B[0m\u001B[1;39;49m]\u001B[0m\u001B[39;49m A new release of pip is available: \u001B[0m\u001B[31;49m23.3.2\u001B[0m\u001B[39;49m -> \u001B[0m\u001B[32;49m24.0\u001B[0m\r\n",
      "\u001B[1m[\u001B[0m\u001B[34;49mnotice\u001B[0m\u001B[1;39;49m]\u001B[0m\u001B[39;49m To update, run: \u001B[0m\u001B[32;49mpip install --upgrade pip\u001B[0m\r\n",
      "Note: you may need to restart the kernel to use updated packages.\n"
     ]
    }
   ],
   "source": [
    "pip install -U langchain-openai"
   ],
   "metadata": {
    "collapsed": false,
    "ExecuteTime": {
     "end_time": "2024-02-07T21:57:56.972352Z",
     "start_time": "2024-02-07T21:57:52.772270Z"
    }
   },
   "id": "a6da15da9b10572e",
   "execution_count": 5
  },
  {
   "cell_type": "code",
   "outputs": [
    {
     "name": "stdout",
     "output_type": "stream",
     "text": [
      "Requirement already satisfied: pip in /Users/jdo/EnBed/.venv/lib/python3.12/site-packages (23.3.2)\r\n",
      "Collecting pip\r\n",
      "  Downloading pip-24.0-py3-none-any.whl.metadata (3.6 kB)\r\n",
      "Downloading pip-24.0-py3-none-any.whl (2.1 MB)\r\n",
      "\u001B[2K   \u001B[90m━━━━━━━━━━━━━━━━━━━━━━━━━━━━━━━━━━━━━━━━\u001B[0m \u001B[32m2.1/2.1 MB\u001B[0m \u001B[31m6.0 MB/s\u001B[0m eta \u001B[36m0:00:00\u001B[0m00:01\u001B[0m00:01\u001B[0m\r\n",
      "\u001B[?25hInstalling collected packages: pip\r\n",
      "  Attempting uninstall: pip\r\n",
      "    Found existing installation: pip 23.3.2\r\n",
      "    Uninstalling pip-23.3.2:\r\n",
      "      Successfully uninstalled pip-23.3.2\r\n",
      "Successfully installed pip-24.0\r\n",
      "Note: you may need to restart the kernel to use updated packages.\n"
     ]
    }
   ],
   "source": [
    "pip install -U pip"
   ],
   "metadata": {
    "collapsed": false,
    "ExecuteTime": {
     "end_time": "2024-02-07T21:58:16.625161Z",
     "start_time": "2024-02-07T21:58:09.016850Z"
    }
   },
   "id": "5bd3b4735dfb586d",
   "execution_count": 6
  },
  {
   "cell_type": "code",
   "outputs": [],
   "source": [
    "!export LANGCHAIN_TRACING_V2=true\n",
    "!export LANGCHAIN_PROJECT=\"pt-frosty-cabbage-63\""
   ],
   "metadata": {
    "collapsed": false,
    "ExecuteTime": {
     "end_time": "2024-02-07T21:58:54.670153Z",
     "start_time": "2024-02-07T21:58:54.323832Z"
    }
   },
   "id": "14380ba9821b1e90",
   "execution_count": 8
  },
  {
   "cell_type": "code",
   "outputs": [],
   "source": [
    "LANGCHAIN_ENDPOINT=os.getenv('LANGCHAIN_ENDPOINT')\n",
    "LANGCHAIN_API_KEY=os.getenv('LANGCHAIN_API_KEY')"
   ],
   "metadata": {
    "collapsed": false,
    "ExecuteTime": {
     "end_time": "2024-02-07T21:58:55.524852Z",
     "start_time": "2024-02-07T21:58:55.504785Z"
    }
   },
   "id": "13687034d5c45e71",
   "execution_count": 9
  },
  {
   "cell_type": "code",
   "outputs": [
    {
     "data": {
      "text/plain": "AIMessage(content='Hello! How can I assist you today?')"
     },
     "execution_count": 10,
     "metadata": {},
     "output_type": "execute_result"
    }
   ],
   "source": [
    "from langchain_openai import ChatOpenAI\n",
    "\n",
    "llm = ChatOpenAI()\n",
    "llm.invoke(\"Hello, world!\")"
   ],
   "metadata": {
    "collapsed": false,
    "ExecuteTime": {
     "end_time": "2024-02-07T22:00:29.103940Z",
     "start_time": "2024-02-07T22:00:27.082549Z"
    }
   },
   "id": "aa33c00bebf00784",
   "execution_count": 10
  },
  {
   "cell_type": "code",
   "outputs": [],
   "source": [],
   "metadata": {
    "collapsed": false
   },
   "id": "31a85258214e0145"
  }
 ],
 "metadata": {
  "kernelspec": {
   "display_name": "Python 3",
   "language": "python",
   "name": "python3"
  },
  "language_info": {
   "codemirror_mode": {
    "name": "ipython",
    "version": 2
   },
   "file_extension": ".py",
   "mimetype": "text/x-python",
   "name": "python",
   "nbconvert_exporter": "python",
   "pygments_lexer": "ipython2",
   "version": "2.7.6"
  }
 },
 "nbformat": 4,
 "nbformat_minor": 5
}
